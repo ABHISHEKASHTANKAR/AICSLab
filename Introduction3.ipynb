{
  "nbformat": 4,
  "nbformat_minor": 0,
  "metadata": {
    "colab": {
      "provenance": [],
      "authorship_tag": "ABX9TyNcov38JzGjBLu2TzvpF6k8",
      "include_colab_link": true
    },
    "kernelspec": {
      "name": "python3",
      "display_name": "Python 3"
    },
    "language_info": {
      "name": "python"
    }
  },
  "cells": [
    {
      "cell_type": "markdown",
      "metadata": {
        "id": "view-in-github",
        "colab_type": "text"
      },
      "source": [
        "<a href=\"https://colab.research.google.com/github/ABHISHEKASHTANKAR/AICSLab/blob/main/Introduction3.ipynb\" target=\"_parent\"><img src=\"https://colab.research.google.com/assets/colab-badge.svg\" alt=\"Open In Colab\"/></a>"
      ]
    },
    {
      "cell_type": "code",
      "execution_count": null,
      "metadata": {
        "colab": {
          "base_uri": "https://localhost:8080/"
        },
        "id": "aePOQb3t-JuK",
        "outputId": "5b4bd31e-54ec-43ce-90bc-fa420318a001"
      },
      "outputs": [
        {
          "output_type": "stream",
          "name": "stdout",
          "text": [
            "Hello World!!\n"
          ]
        }
      ],
      "source": [
        "print(\"Hello World!!\")"
      ]
    },
    {
      "cell_type": "code",
      "source": [
        "li = [1, 2, 3, 4, 5]\n",
        "print(li)"
      ],
      "metadata": {
        "id": "zHx01c2q-Vy4",
        "colab": {
          "base_uri": "https://localhost:8080/"
        },
        "outputId": "8efefeb4-dc0e-4e3a-9be4-bdff5d53653e"
      },
      "execution_count": null,
      "outputs": [
        {
          "output_type": "stream",
          "name": "stdout",
          "text": [
            "[1, 2, 3, 4, 5]\n"
          ]
        }
      ]
    },
    {
      "cell_type": "code",
      "source": [
        "li = [1, 2, 3, 4, 5, 7, 6, 3, 2, 1]\n",
        "li.sort()\n",
        "print(li)"
      ],
      "metadata": {
        "id": "A-FkTEIXBRkI",
        "outputId": "adf51bf2-2f3d-4c5a-ef98-7df4103423d7",
        "colab": {
          "base_uri": "https://localhost:8080/"
        }
      },
      "execution_count": 2,
      "outputs": [
        {
          "output_type": "stream",
          "name": "stdout",
          "text": [
            "[1, 1, 2, 2, 3, 3, 4, 5, 6, 7]\n"
          ]
        }
      ]
    },
    {
      "cell_type": "code",
      "source": [],
      "metadata": {
        "id": "ENbRgZKtCr8E"
      },
      "execution_count": null,
      "outputs": []
    }
  ]
}