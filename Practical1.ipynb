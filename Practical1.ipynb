{
  "nbformat": 4,
  "nbformat_minor": 0,
  "metadata": {
    "colab": {
      "provenance": [],
      "authorship_tag": "ABX9TyMG0RpiGTjbEsuBPLLFtfdV",
      "include_colab_link": true
    },
    "kernelspec": {
      "name": "python3",
      "display_name": "Python 3"
    },
    "language_info": {
      "name": "python"
    }
  },
  "cells": [
    {
      "cell_type": "markdown",
      "metadata": {
        "id": "view-in-github",
        "colab_type": "text"
      },
      "source": [
        "<a href=\"https://colab.research.google.com/github/ABHISHEKASHTANKAR/AICSLab/blob/main/Practical1.ipynb\" target=\"_parent\"><img src=\"https://colab.research.google.com/assets/colab-badge.svg\" alt=\"Open In Colab\"/></a>"
      ]
    },
    {
      "cell_type": "code",
      "execution_count": 1,
      "metadata": {
        "colab": {
          "base_uri": "https://localhost:8080/",
          "height": 0
        },
        "id": "twpUaV245RV1",
        "outputId": "c231b288-1e29-4582-b628-61a15aa0bb61"
      },
      "outputs": [
        {
          "output_type": "stream",
          "name": "stdout",
          "text": [
            "5\n",
            "5\n",
            "max of L1 50\n",
            "max of T1 50\n",
            "min of L1 10\n",
            "min of T1 10\n",
            "sum of L1 150\n",
            "sum of T1 150\n",
            "L1 in sorted order [10, 20, 30, 40, 50]\n",
            "T1 in sorted order [10, 20, 30, 40, 50]\n"
          ]
        }
      ],
      "source": [
        "L1=[10,30,50,20,40]\n",
        "T1=(10,50,30,40,20)\n",
        "print (len(L1))\n",
        "print (len(T1))\n",
        "print ('max of L1', max(L1))\n",
        "print ('max of T1', max(T1))\n",
        "print ('min of L1', min(L1))\n",
        "print ('min of T1', min(T1))\n",
        "print ('sum of L1', sum(L1))\n",
        "print ('sum of T1', sum(T1))\n",
        "print ('L1 in sorted order', sorted(L1))\n",
        "print ('T1 in sorted order', sorted(T1))"
      ]
    },
    {
      "cell_type": "code",
      "source": [
        "L1=[10,30,50,20,40]\n",
        "L1.append(100) \n",
        "print (\"after append\",L1)\n",
        "L1.insert(2,30) \n",
        "print ('after insert',L1)\n",
        "c=L1.count(30)\n",
        "print ('count of 30',c)\n",
        "L1.extend([11,22,33])\n",
        "print ('after extend', L1)"
      ],
      "metadata": {
        "colab": {
          "base_uri": "https://localhost:8080/",
          "height": 0
        },
        "id": "nPkk5lb05rmQ",
        "outputId": "831f712e-1451-4543-ca82-0ddff61113c0"
      },
      "execution_count": 2,
      "outputs": [
        {
          "output_type": "stream",
          "name": "stdout",
          "text": [
            "after append [10, 30, 50, 20, 40, 100]\n",
            "after insert [10, 30, 30, 50, 20, 40, 100]\n",
            "count of 30 2\n",
            "after extend [10, 30, 30, 50, 20, 40, 100, 11, 22, 33]\n"
          ]
        }
      ]
    },
    {
      "cell_type": "code",
      "source": [
        "p=L1.pop()\n",
        "print ('item popped:', p)\n",
        "print ('list after popping', L1)\n",
        "L1.remove(100)\n",
        "print ('after removing value :',L1)\n",
        "L1.clear()\n",
        "print ('all cleared:', L1) "
      ],
      "metadata": {
        "colab": {
          "base_uri": "https://localhost:8080/",
          "height": 0
        },
        "id": "pCiQXwwg51xi",
        "outputId": "7b1cef5a-c3e1-477e-f2b5-58e3cc81291d"
      },
      "execution_count": 3,
      "outputs": [
        {
          "output_type": "stream",
          "name": "stdout",
          "text": [
            "item popped: 33\n",
            "list after popping [10, 30, 30, 50, 20, 40, 100, 11, 22]\n",
            "after removing value : [10, 30, 30, 50, 20, 40, 11, 22]\n",
            "all cleared: []\n"
          ]
        }
      ]
    },
    {
      "cell_type": "code",
      "source": [
        "L1=[10, 30, 30, 50, 20, 40, 11, 22]\n",
        "print ('original list :', L1)\n",
        "L1.reverse()\n",
        "print ('after reversing:',L1)\n",
        "L1.sort()\n",
        "print (\"sorted list: \", L1)"
      ],
      "metadata": {
        "colab": {
          "base_uri": "https://localhost:8080/",
          "height": 0
        },
        "id": "fkfI1sqS59Pq",
        "outputId": "9f99e550-0d00-487e-e164-c26e12f0dec9"
      },
      "execution_count": 4,
      "outputs": [
        {
          "output_type": "stream",
          "name": "stdout",
          "text": [
            "original list : [10, 30, 30, 50, 20, 40, 11, 22]\n",
            "after reversing: [22, 11, 40, 20, 50, 30, 30, 10]\n",
            "sorted list:  [10, 11, 20, 22, 30, 30, 40, 50]\n"
          ]
        }
      ]
    },
    {
      "cell_type": "code",
      "source": [],
      "metadata": {
        "id": "kibWCCgT6BJG"
      },
      "execution_count": null,
      "outputs": []
    }
  ]
}